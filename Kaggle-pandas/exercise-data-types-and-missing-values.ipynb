{
 "cells": [
  {
   "cell_type": "markdown",
   "metadata": {
    "papermill": {
     "duration": 0.013762,
     "end_time": "2020-09-15T19:04:17.522093",
     "exception": false,
     "start_time": "2020-09-15T19:04:17.508331",
     "status": "completed"
    },
    "tags": []
   },
   "source": [
    "**[Pandas Home Page](https://www.kaggle.com/learn/pandas)**\n",
    "\n",
    "---\n"
   ]
  },
  {
   "cell_type": "markdown",
   "metadata": {
    "papermill": {
     "duration": 0.012348,
     "end_time": "2020-09-15T19:04:17.547642",
     "exception": false,
     "start_time": "2020-09-15T19:04:17.535294",
     "status": "completed"
    },
    "tags": []
   },
   "source": [
    "# Introduction\n",
    "\n",
    "Run the following cell to load your data and some utility functions."
   ]
  },
  {
   "cell_type": "code",
   "execution_count": 1,
   "metadata": {
    "execution": {
     "iopub.execute_input": "2020-09-15T19:04:17.584694Z",
     "iopub.status.busy": "2020-09-15T19:04:17.583841Z",
     "iopub.status.idle": "2020-09-15T19:04:19.917046Z",
     "shell.execute_reply": "2020-09-15T19:04:19.917968Z"
    },
    "papermill": {
     "duration": 2.357937,
     "end_time": "2020-09-15T19:04:19.918210",
     "exception": false,
     "start_time": "2020-09-15T19:04:17.560273",
     "status": "completed"
    },
    "tags": []
   },
   "outputs": [
    {
     "name": "stdout",
     "output_type": "stream",
     "text": [
      "Setup complete.\n"
     ]
    }
   ],
   "source": [
    "import pandas as pd\n",
    "\n",
    "reviews = pd.read_csv(\"../input/wine-reviews/winemag-data-130k-v2.csv\", index_col=0)\n",
    "\n",
    "from learntools.core import binder; binder.bind(globals())\n",
    "from learntools.pandas.data_types_and_missing_data import *\n",
    "print(\"Setup complete.\")"
   ]
  },
  {
   "cell_type": "markdown",
   "metadata": {
    "papermill": {
     "duration": 0.013164,
     "end_time": "2020-09-15T19:04:19.945780",
     "exception": false,
     "start_time": "2020-09-15T19:04:19.932616",
     "status": "completed"
    },
    "tags": []
   },
   "source": [
    "# Exercises"
   ]
  },
  {
   "cell_type": "markdown",
   "metadata": {
    "papermill": {
     "duration": 0.013087,
     "end_time": "2020-09-15T19:04:19.972404",
     "exception": false,
     "start_time": "2020-09-15T19:04:19.959317",
     "status": "completed"
    },
    "tags": []
   },
   "source": [
    "## 1. \n",
    "What is the data type of the `points` column in the dataset?"
   ]
  },
  {
   "cell_type": "code",
   "execution_count": 2,
   "metadata": {
    "execution": {
     "iopub.execute_input": "2020-09-15T19:04:20.009961Z",
     "iopub.status.busy": "2020-09-15T19:04:20.009012Z",
     "iopub.status.idle": "2020-09-15T19:04:20.016810Z",
     "shell.execute_reply": "2020-09-15T19:04:20.015990Z"
    },
    "papermill": {
     "duration": 0.030706,
     "end_time": "2020-09-15T19:04:20.016939",
     "exception": false,
     "start_time": "2020-09-15T19:04:19.986233",
     "status": "completed"
    },
    "tags": []
   },
   "outputs": [
    {
     "data": {
      "application/javascript": [
       "parent.postMessage({\"jupyterEvent\": \"custom.exercise_interaction\", \"data\": {\"outcomeType\": 1, \"valueTowardsCompletion\": 0.25, \"interactionType\": 1, \"questionType\": 1, \"questionId\": \"1_PointsDtype\", \"learnToolsVersion\": \"0.3.4\", \"failureMessage\": \"\", \"exceptionClass\": \"\", \"trace\": \"\"}}, \"*\")"
      ],
      "text/plain": [
       "<IPython.core.display.Javascript object>"
      ]
     },
     "metadata": {},
     "output_type": "display_data"
    },
    {
     "data": {
      "text/markdown": [
       "<span style=\"color:#33cc33\">Correct</span>"
      ],
      "text/plain": [
       "Correct"
      ]
     },
     "metadata": {},
     "output_type": "display_data"
    }
   ],
   "source": [
    "# Your code here\n",
    "dtype = reviews.points.dtype\n",
    "\n",
    "# Check your answer\n",
    "q1.check()"
   ]
  },
  {
   "cell_type": "code",
   "execution_count": 3,
   "metadata": {
    "execution": {
     "iopub.execute_input": "2020-09-15T19:04:20.053836Z",
     "iopub.status.busy": "2020-09-15T19:04:20.052654Z",
     "iopub.status.idle": "2020-09-15T19:04:20.056375Z",
     "shell.execute_reply": "2020-09-15T19:04:20.055679Z"
    },
    "papermill": {
     "duration": 0.0241,
     "end_time": "2020-09-15T19:04:20.056510",
     "exception": false,
     "start_time": "2020-09-15T19:04:20.032410",
     "status": "completed"
    },
    "tags": []
   },
   "outputs": [],
   "source": [
    "#q1.hint()\n",
    "#q1.solution()"
   ]
  },
  {
   "cell_type": "markdown",
   "metadata": {
    "papermill": {
     "duration": 0.014722,
     "end_time": "2020-09-15T19:04:20.088346",
     "exception": false,
     "start_time": "2020-09-15T19:04:20.073624",
     "status": "completed"
    },
    "tags": []
   },
   "source": [
    "## 2. \n",
    "Create a Series from entries in the `points` column, but convert the entries to strings. Hint: strings are `str` in native Python."
   ]
  },
  {
   "cell_type": "code",
   "execution_count": 4,
   "metadata": {
    "execution": {
     "iopub.execute_input": "2020-09-15T19:04:20.181259Z",
     "iopub.status.busy": "2020-09-15T19:04:20.124693Z",
     "iopub.status.idle": "2020-09-15T19:04:20.187654Z",
     "shell.execute_reply": "2020-09-15T19:04:20.188278Z"
    },
    "papermill": {
     "duration": 0.084543,
     "end_time": "2020-09-15T19:04:20.188453",
     "exception": false,
     "start_time": "2020-09-15T19:04:20.103910",
     "status": "completed"
    },
    "tags": []
   },
   "outputs": [
    {
     "data": {
      "application/javascript": [
       "parent.postMessage({\"jupyterEvent\": \"custom.exercise_interaction\", \"data\": {\"outcomeType\": 1, \"valueTowardsCompletion\": 0.25, \"interactionType\": 1, \"questionType\": 1, \"questionId\": \"2_StrPoints\", \"learnToolsVersion\": \"0.3.4\", \"failureMessage\": \"\", \"exceptionClass\": \"\", \"trace\": \"\"}}, \"*\")"
      ],
      "text/plain": [
       "<IPython.core.display.Javascript object>"
      ]
     },
     "metadata": {},
     "output_type": "display_data"
    },
    {
     "data": {
      "text/markdown": [
       "<span style=\"color:#33cc33\">Correct</span>"
      ],
      "text/plain": [
       "Correct"
      ]
     },
     "metadata": {},
     "output_type": "display_data"
    }
   ],
   "source": [
    "point_strings = reviews.points.astype('str')\n",
    "\n",
    "# Check your answer\n",
    "q2.check()"
   ]
  },
  {
   "cell_type": "code",
   "execution_count": 5,
   "metadata": {
    "execution": {
     "iopub.execute_input": "2020-09-15T19:04:20.229005Z",
     "iopub.status.busy": "2020-09-15T19:04:20.228256Z",
     "iopub.status.idle": "2020-09-15T19:04:20.231810Z",
     "shell.execute_reply": "2020-09-15T19:04:20.231218Z"
    },
    "papermill": {
     "duration": 0.026805,
     "end_time": "2020-09-15T19:04:20.231939",
     "exception": false,
     "start_time": "2020-09-15T19:04:20.205134",
     "status": "completed"
    },
    "tags": []
   },
   "outputs": [],
   "source": [
    "#q2.hint()\n",
    "#q2.solution()"
   ]
  },
  {
   "cell_type": "markdown",
   "metadata": {
    "papermill": {
     "duration": 0.016355,
     "end_time": "2020-09-15T19:04:20.265492",
     "exception": false,
     "start_time": "2020-09-15T19:04:20.249137",
     "status": "completed"
    },
    "tags": []
   },
   "source": [
    "## 3.\n",
    "Sometimes the price column is null. How many reviews in the dataset are missing a price?"
   ]
  },
  {
   "cell_type": "code",
   "execution_count": 6,
   "metadata": {
    "execution": {
     "iopub.execute_input": "2020-09-15T19:04:20.305442Z",
     "iopub.status.busy": "2020-09-15T19:04:20.304670Z",
     "iopub.status.idle": "2020-09-15T19:04:20.321649Z",
     "shell.execute_reply": "2020-09-15T19:04:20.322430Z"
    },
    "papermill": {
     "duration": 0.040527,
     "end_time": "2020-09-15T19:04:20.322620",
     "exception": false,
     "start_time": "2020-09-15T19:04:20.282093",
     "status": "completed"
    },
    "tags": []
   },
   "outputs": [
    {
     "data": {
      "application/javascript": [
       "parent.postMessage({\"jupyterEvent\": \"custom.exercise_interaction\", \"data\": {\"outcomeType\": 1, \"valueTowardsCompletion\": 0.25, \"interactionType\": 1, \"questionType\": 1, \"questionId\": \"3_CountMissingPrices\", \"learnToolsVersion\": \"0.3.4\", \"failureMessage\": \"\", \"exceptionClass\": \"\", \"trace\": \"\"}}, \"*\")"
      ],
      "text/plain": [
       "<IPython.core.display.Javascript object>"
      ]
     },
     "metadata": {},
     "output_type": "display_data"
    },
    {
     "data": {
      "text/markdown": [
       "<span style=\"color:#33cc33\">Correct</span>"
      ],
      "text/plain": [
       "Correct"
      ]
     },
     "metadata": {},
     "output_type": "display_data"
    }
   ],
   "source": [
    "missing_price_reviews = reviews[reviews.price.isnull()]\n",
    "n_missing_prices = len(missing_price_reviews)\n",
    "\n",
    "# Check your answer\n",
    "q3.check()"
   ]
  },
  {
   "cell_type": "code",
   "execution_count": 7,
   "metadata": {
    "execution": {
     "iopub.execute_input": "2020-09-15T19:04:20.368092Z",
     "iopub.status.busy": "2020-09-15T19:04:20.367312Z",
     "iopub.status.idle": "2020-09-15T19:04:20.371305Z",
     "shell.execute_reply": "2020-09-15T19:04:20.370517Z"
    },
    "papermill": {
     "duration": 0.028288,
     "end_time": "2020-09-15T19:04:20.371434",
     "exception": false,
     "start_time": "2020-09-15T19:04:20.343146",
     "status": "completed"
    },
    "tags": []
   },
   "outputs": [],
   "source": [
    "#q3.hint()\n",
    "#q3.solution()"
   ]
  },
  {
   "cell_type": "markdown",
   "metadata": {
    "papermill": {
     "duration": 0.018491,
     "end_time": "2020-09-15T19:04:20.409931",
     "exception": false,
     "start_time": "2020-09-15T19:04:20.391440",
     "status": "completed"
    },
    "tags": []
   },
   "source": [
    "## 4.\n",
    "What are the most common wine-producing regions? Create a Series counting the number of times each value occurs in the `region_1` field. This field is often missing data, so replace missing values with `Unknown`. Sort in descending order.  Your output should look something like this:\n",
    "\n",
    "```\n",
    "Unknown                    21247\n",
    "Napa Valley                 4480\n",
    "                           ...  \n",
    "Bardolino Superiore            1\n",
    "Primitivo del Tarantino        1\n",
    "Name: region_1, Length: 1230, dtype: int64\n",
    "```"
   ]
  },
  {
   "cell_type": "code",
   "execution_count": 8,
   "metadata": {
    "execution": {
     "iopub.execute_input": "2020-09-15T19:04:20.469096Z",
     "iopub.status.busy": "2020-09-15T19:04:20.467924Z",
     "iopub.status.idle": "2020-09-15T19:04:20.565449Z",
     "shell.execute_reply": "2020-09-15T19:04:20.564772Z"
    },
    "papermill": {
     "duration": 0.136948,
     "end_time": "2020-09-15T19:04:20.565577",
     "exception": false,
     "start_time": "2020-09-15T19:04:20.428629",
     "status": "completed"
    },
    "tags": []
   },
   "outputs": [
    {
     "data": {
      "application/javascript": [
       "parent.postMessage({\"jupyterEvent\": \"custom.exercise_interaction\", \"data\": {\"outcomeType\": 1, \"valueTowardsCompletion\": 0.25, \"interactionType\": 1, \"questionType\": 2, \"questionId\": \"4_ReviewsPerRegion\", \"learnToolsVersion\": \"0.3.4\", \"failureMessage\": \"\", \"exceptionClass\": \"\", \"trace\": \"\"}}, \"*\")"
      ],
      "text/plain": [
       "<IPython.core.display.Javascript object>"
      ]
     },
     "metadata": {},
     "output_type": "display_data"
    },
    {
     "data": {
      "text/markdown": [
       "<span style=\"color:#33cc33\">Correct</span>"
      ],
      "text/plain": [
       "Correct"
      ]
     },
     "metadata": {},
     "output_type": "display_data"
    }
   ],
   "source": [
    "reviews_per_region = reviews.region_1.fillna('Unknown').value_counts().sort_values(ascending=False)\n",
    "\n",
    "\n",
    "# Check your answer\n",
    "q4.check()"
   ]
  },
  {
   "cell_type": "code",
   "execution_count": 9,
   "metadata": {
    "execution": {
     "iopub.execute_input": "2020-09-15T19:04:20.612632Z",
     "iopub.status.busy": "2020-09-15T19:04:20.611645Z",
     "iopub.status.idle": "2020-09-15T19:04:20.614708Z",
     "shell.execute_reply": "2020-09-15T19:04:20.614057Z"
    },
    "papermill": {
     "duration": 0.027523,
     "end_time": "2020-09-15T19:04:20.614838",
     "exception": false,
     "start_time": "2020-09-15T19:04:20.587315",
     "status": "completed"
    },
    "tags": []
   },
   "outputs": [],
   "source": [
    "#q4.hint()\n",
    "#q4.solution()"
   ]
  },
  {
   "cell_type": "markdown",
   "metadata": {
    "papermill": {
     "duration": 0.020468,
     "end_time": "2020-09-15T19:04:20.655370",
     "exception": false,
     "start_time": "2020-09-15T19:04:20.634902",
     "status": "completed"
    },
    "tags": []
   },
   "source": [
    "# Keep going\n",
    "\n",
    "Move on to **[renaming and combining](https://www.kaggle.com/residentmario/renaming-and-combining)**."
   ]
  },
  {
   "cell_type": "markdown",
   "metadata": {
    "papermill": {
     "duration": 0.020019,
     "end_time": "2020-09-15T19:04:20.695199",
     "exception": false,
     "start_time": "2020-09-15T19:04:20.675180",
     "status": "completed"
    },
    "tags": []
   },
   "source": [
    "---\n",
    "**[Pandas Home Page](https://www.kaggle.com/learn/pandas)**\n",
    "\n",
    "\n",
    "\n",
    "\n",
    "\n",
    "*Have questions or comments? Visit the [Learn Discussion forum](https://www.kaggle.com/learn-forum/161299) to chat with other Learners.*"
   ]
  }
 ],
 "metadata": {
  "kernelspec": {
   "display_name": "Python 3",
   "language": "python",
   "name": "python3"
  },
  "language_info": {
   "codemirror_mode": {
    "name": "ipython",
    "version": 3
   },
   "file_extension": ".py",
   "mimetype": "text/x-python",
   "name": "python",
   "nbconvert_exporter": "python",
   "pygments_lexer": "ipython3",
   "version": "3.7.6"
  },
  "papermill": {
   "duration": 9.101835,
   "end_time": "2020-09-15T19:04:20.823474",
   "environment_variables": {},
   "exception": null,
   "input_path": "__notebook__.ipynb",
   "output_path": "__notebook__.ipynb",
   "parameters": {},
   "start_time": "2020-09-15T19:04:11.721639",
   "version": "2.1.0"
  }
 },
 "nbformat": 4,
 "nbformat_minor": 4
}
