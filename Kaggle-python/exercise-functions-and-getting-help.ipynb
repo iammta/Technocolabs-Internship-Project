{
 "cells": [
  {
   "cell_type": "markdown",
   "metadata": {
    "papermill": {
     "duration": 0.015549,
     "end_time": "2020-09-14T18:50:11.113726",
     "exception": false,
     "start_time": "2020-09-14T18:50:11.098177",
     "status": "completed"
    },
    "tags": []
   },
   "source": [
    "**[Python Home Page](https://www.kaggle.com/learn/python)**\n",
    "\n",
    "---\n"
   ]
  },
  {
   "cell_type": "markdown",
   "metadata": {
    "papermill": {
     "duration": 0.013852,
     "end_time": "2020-09-14T18:50:11.142367",
     "exception": false,
     "start_time": "2020-09-14T18:50:11.128515",
     "status": "completed"
    },
    "tags": []
   },
   "source": [
    "# Try It Yourself\n",
    "\n",
    "Functions are powerful. Try writing some yourself.\n",
    "\n",
    "As before, don't forget to run the setup code below before jumping into question 1."
   ]
  },
  {
   "cell_type": "code",
   "execution_count": 1,
   "metadata": {
    "_kg_hide-input": true,
    "_kg_hide-output": true,
    "execution": {
     "iopub.execute_input": "2020-09-14T18:50:11.177359Z",
     "iopub.status.busy": "2020-09-14T18:50:11.176494Z",
     "iopub.status.idle": "2020-09-14T18:50:11.226865Z",
     "shell.execute_reply": "2020-09-14T18:50:11.227479Z"
    },
    "papermill": {
     "duration": 0.071211,
     "end_time": "2020-09-14T18:50:11.227675",
     "exception": false,
     "start_time": "2020-09-14T18:50:11.156464",
     "status": "completed"
    },
    "tags": []
   },
   "outputs": [
    {
     "name": "stdout",
     "output_type": "stream",
     "text": [
      "Setup complete.\n"
     ]
    }
   ],
   "source": [
    "# SETUP. You don't need to worry for now about what this code does or how it works.\n",
    "from learntools.core import binder; binder.bind(globals())\n",
    "from learntools.python.ex2 import *\n",
    "print('Setup complete.')"
   ]
  },
  {
   "cell_type": "markdown",
   "metadata": {
    "papermill": {
     "duration": 0.014571,
     "end_time": "2020-09-14T18:50:11.258063",
     "exception": false,
     "start_time": "2020-09-14T18:50:11.243492",
     "status": "completed"
    },
    "tags": []
   },
   "source": [
    "# Exercises"
   ]
  },
  {
   "cell_type": "markdown",
   "metadata": {
    "papermill": {
     "duration": 0.014399,
     "end_time": "2020-09-14T18:50:11.287283",
     "exception": false,
     "start_time": "2020-09-14T18:50:11.272884",
     "status": "completed"
    },
    "tags": []
   },
   "source": [
    "## 1.\n",
    "\n",
    "Complete the body of the following function according to its docstring.\n",
    "\n",
    "HINT: Python has a built-in function `round`."
   ]
  },
  {
   "cell_type": "code",
   "execution_count": 2,
   "metadata": {
    "execution": {
     "iopub.execute_input": "2020-09-14T18:50:11.326321Z",
     "iopub.status.busy": "2020-09-14T18:50:11.325282Z",
     "iopub.status.idle": "2020-09-14T18:50:11.331313Z",
     "shell.execute_reply": "2020-09-14T18:50:11.330539Z"
    },
    "papermill": {
     "duration": 0.02935,
     "end_time": "2020-09-14T18:50:11.331434",
     "exception": false,
     "start_time": "2020-09-14T18:50:11.302084",
     "status": "completed"
    },
    "tags": []
   },
   "outputs": [
    {
     "data": {
      "application/javascript": [
       "parent.postMessage({\"jupyterEvent\": \"custom.exercise_interaction\", \"data\": {\"outcomeType\": 1, \"valueTowardsCompletion\": 0.16666666666666666, \"interactionType\": 1, \"questionType\": 2, \"questionId\": \"1_RoundFunctionProblem\", \"learnToolsVersion\": \"0.3.4\", \"failureMessage\": \"\", \"exceptionClass\": \"\", \"trace\": \"\"}}, \"*\")"
      ],
      "text/plain": [
       "<IPython.core.display.Javascript object>"
      ]
     },
     "metadata": {},
     "output_type": "display_data"
    },
    {
     "data": {
      "text/markdown": [
       "<span style=\"color:#33cc33\">Correct</span>"
      ],
      "text/plain": [
       "Correct"
      ]
     },
     "metadata": {},
     "output_type": "display_data"
    }
   ],
   "source": [
    "def round_to_two_places(num):\n",
    "    \"\"\"Return the given number rounded to two decimal places. \n",
    "    \n",
    "    >>> round_to_two_places(3.14159)\n",
    "    3.14\n",
    "    \"\"\"\n",
    "    # Replace this body with your own code.\n",
    "    # (\"pass\" is a keyword that does literally nothing. We used it as a placeholder\n",
    "    # because after we begin a code block, Python requires at least one line of code)\n",
    "    return round(num,2)\n",
    "\n",
    "# Check your answer\n",
    "q1.check()"
   ]
  },
  {
   "cell_type": "code",
   "execution_count": 3,
   "metadata": {
    "execution": {
     "iopub.execute_input": "2020-09-14T18:50:11.370965Z",
     "iopub.status.busy": "2020-09-14T18:50:11.369916Z",
     "iopub.status.idle": "2020-09-14T18:50:11.373620Z",
     "shell.execute_reply": "2020-09-14T18:50:11.372950Z"
    },
    "papermill": {
     "duration": 0.024561,
     "end_time": "2020-09-14T18:50:11.373746",
     "exception": false,
     "start_time": "2020-09-14T18:50:11.349185",
     "status": "completed"
    },
    "tags": []
   },
   "outputs": [],
   "source": [
    "# Uncomment the following for a hint\n",
    "#q1.hint()\n",
    "# Or uncomment the following to peek at the solution\n",
    "#q1.solution()"
   ]
  },
  {
   "cell_type": "markdown",
   "metadata": {
    "papermill": {
     "duration": 0.016126,
     "end_time": "2020-09-14T18:50:11.406520",
     "exception": false,
     "start_time": "2020-09-14T18:50:11.390394",
     "status": "completed"
    },
    "tags": []
   },
   "source": [
    "## 2.\n",
    "The help for `round` says that `ndigits` (the second argument) may be negative.\n",
    "What do you think will happen when it is? Try some examples in the following cell?\n",
    "\n",
    "Can you think of a case where this would be useful?"
   ]
  },
  {
   "cell_type": "code",
   "execution_count": 4,
   "metadata": {
    "execution": {
     "iopub.execute_input": "2020-09-14T18:50:11.445471Z",
     "iopub.status.busy": "2020-09-14T18:50:11.444555Z",
     "iopub.status.idle": "2020-09-14T18:50:11.447927Z",
     "shell.execute_reply": "2020-09-14T18:50:11.448512Z"
    },
    "papermill": {
     "duration": 0.025638,
     "end_time": "2020-09-14T18:50:11.448660",
     "exception": false,
     "start_time": "2020-09-14T18:50:11.423022",
     "status": "completed"
    },
    "tags": []
   },
   "outputs": [
    {
     "name": "stdout",
     "output_type": "stream",
     "text": [
      "10.0\n"
     ]
    }
   ],
   "source": [
    "# Put your test code here\n",
    "print(round(9.23123,-1))"
   ]
  },
  {
   "cell_type": "code",
   "execution_count": 5,
   "metadata": {
    "execution": {
     "iopub.execute_input": "2020-09-14T18:50:11.488112Z",
     "iopub.status.busy": "2020-09-14T18:50:11.487050Z",
     "iopub.status.idle": "2020-09-14T18:50:11.490248Z",
     "shell.execute_reply": "2020-09-14T18:50:11.489473Z"
    },
    "papermill": {
     "duration": 0.024516,
     "end_time": "2020-09-14T18:50:11.490373",
     "exception": false,
     "start_time": "2020-09-14T18:50:11.465857",
     "status": "completed"
    },
    "tags": []
   },
   "outputs": [],
   "source": [
    "# Check your answer (Run this code cell to receive credit!)\n",
    "#q2.solution()"
   ]
  },
  {
   "cell_type": "markdown",
   "metadata": {
    "papermill": {
     "duration": 0.01723,
     "end_time": "2020-09-14T18:50:11.525229",
     "exception": false,
     "start_time": "2020-09-14T18:50:11.507999",
     "status": "completed"
    },
    "tags": []
   },
   "source": [
    "## 3.\n",
    "\n",
    "In a previous programming problem, the candy-sharing friends Alice, Bob and Carol tried to split candies evenly. For the sake of their friendship, any candies left over would be smashed. For example, if they collectively bring home 91 candies, they'll take 30 each and smash 1.\n",
    "\n",
    "Below is a simple function that will calculate the number of candies to smash for *any* number of total candies.\n",
    "\n",
    "Modify it so that it optionally takes a second argument representing the number of friends the candies are being split between. If no second argument is provided, it should assume 3 friends, as before.\n",
    "\n",
    "Update the docstring to reflect this new behaviour."
   ]
  },
  {
   "cell_type": "code",
   "execution_count": 6,
   "metadata": {
    "execution": {
     "iopub.execute_input": "2020-09-14T18:50:11.567219Z",
     "iopub.status.busy": "2020-09-14T18:50:11.566263Z",
     "iopub.status.idle": "2020-09-14T18:50:11.571318Z",
     "shell.execute_reply": "2020-09-14T18:50:11.571894Z"
    },
    "papermill": {
     "duration": 0.029311,
     "end_time": "2020-09-14T18:50:11.572047",
     "exception": false,
     "start_time": "2020-09-14T18:50:11.542736",
     "status": "completed"
    },
    "tags": []
   },
   "outputs": [
    {
     "data": {
      "application/javascript": [
       "parent.postMessage({\"jupyterEvent\": \"custom.exercise_interaction\", \"data\": {\"outcomeType\": 1, \"valueTowardsCompletion\": 0.16666666666666666, \"interactionType\": 1, \"questionType\": 2, \"questionId\": \"3_CandySmashingFunctionProblem\", \"learnToolsVersion\": \"0.3.4\", \"failureMessage\": \"\", \"exceptionClass\": \"\", \"trace\": \"\"}}, \"*\")"
      ],
      "text/plain": [
       "<IPython.core.display.Javascript object>"
      ]
     },
     "metadata": {},
     "output_type": "display_data"
    },
    {
     "data": {
      "text/markdown": [
       "<span style=\"color:#33cc33\">Correct</span>"
      ],
      "text/plain": [
       "Correct"
      ]
     },
     "metadata": {},
     "output_type": "display_data"
    }
   ],
   "source": [
    "def to_smash(total_candies,n=3):\n",
    "    \"\"\"Return the number of leftover candies that must be smashed after distributing\n",
    "    the given number of candies evenly between 3 friends.\n",
    "    \n",
    "    >>> to_smash(91)\n",
    "    1\n",
    "    \"\"\"\n",
    "    return total_candies % n\n",
    "\n",
    "# Check your answer\n",
    "q3.check()"
   ]
  },
  {
   "cell_type": "code",
   "execution_count": 7,
   "metadata": {
    "execution": {
     "iopub.execute_input": "2020-09-14T18:50:11.614487Z",
     "iopub.status.busy": "2020-09-14T18:50:11.613718Z",
     "iopub.status.idle": "2020-09-14T18:50:11.617244Z",
     "shell.execute_reply": "2020-09-14T18:50:11.616520Z"
    },
    "papermill": {
     "duration": 0.026608,
     "end_time": "2020-09-14T18:50:11.617366",
     "exception": false,
     "start_time": "2020-09-14T18:50:11.590758",
     "status": "completed"
    },
    "tags": []
   },
   "outputs": [],
   "source": [
    "#q3.hint()"
   ]
  },
  {
   "cell_type": "code",
   "execution_count": 8,
   "metadata": {
    "execution": {
     "iopub.execute_input": "2020-09-14T18:50:11.660491Z",
     "iopub.status.busy": "2020-09-14T18:50:11.659444Z",
     "iopub.status.idle": "2020-09-14T18:50:11.662841Z",
     "shell.execute_reply": "2020-09-14T18:50:11.662244Z"
    },
    "papermill": {
     "duration": 0.026622,
     "end_time": "2020-09-14T18:50:11.662961",
     "exception": false,
     "start_time": "2020-09-14T18:50:11.636339",
     "status": "completed"
    },
    "tags": []
   },
   "outputs": [],
   "source": [
    "#q3.solution()"
   ]
  },
  {
   "cell_type": "markdown",
   "metadata": {
    "papermill": {
     "duration": 0.018871,
     "end_time": "2020-09-14T18:50:11.700900",
     "exception": false,
     "start_time": "2020-09-14T18:50:11.682029",
     "status": "completed"
    },
    "tags": []
   },
   "source": [
    "## 4. (Optional)\n",
    "\n",
    "It may not be fun, but reading and understanding error messages will be an important part of your Python career.\n",
    "\n",
    "Each code cell below contains some commented-out buggy code. For each cell...\n",
    "\n",
    "1. Read the code and predict what you think will happen when it's run.\n",
    "2. Then uncomment the code and run it to see what happens. (**Tip**: In the kernel editor, you can highlight several lines and press `ctrl`+`/` to toggle commenting.)\n",
    "3. Fix the code (so that it accomplishes its intended purpose without throwing an exception)\n",
    "\n",
    "<!-- TODO: should this be autochecked? Delta is probably pretty small. -->"
   ]
  },
  {
   "cell_type": "code",
   "execution_count": 9,
   "metadata": {
    "execution": {
     "iopub.execute_input": "2020-09-14T18:50:11.744420Z",
     "iopub.status.busy": "2020-09-14T18:50:11.743512Z",
     "iopub.status.idle": "2020-09-14T18:50:11.746708Z",
     "shell.execute_reply": "2020-09-14T18:50:11.746067Z"
    },
    "papermill": {
     "duration": 0.026565,
     "end_time": "2020-09-14T18:50:11.746827",
     "exception": false,
     "start_time": "2020-09-14T18:50:11.720262",
     "status": "completed"
    },
    "tags": []
   },
   "outputs": [],
   "source": [
    "# ruound_to_two_places(9.9999)"
   ]
  },
  {
   "cell_type": "code",
   "execution_count": 10,
   "metadata": {
    "execution": {
     "iopub.execute_input": "2020-09-14T18:50:11.790876Z",
     "iopub.status.busy": "2020-09-14T18:50:11.789923Z",
     "iopub.status.idle": "2020-09-14T18:50:11.793166Z",
     "shell.execute_reply": "2020-09-14T18:50:11.792436Z"
    },
    "papermill": {
     "duration": 0.027048,
     "end_time": "2020-09-14T18:50:11.793291",
     "exception": false,
     "start_time": "2020-09-14T18:50:11.766243",
     "status": "completed"
    },
    "tags": []
   },
   "outputs": [],
   "source": [
    "# x = -10\n",
    "# y = 5\n",
    "# # Which of the two variables above has the smallest absolute value?\n",
    "# smallest_abs = min(abs(x, y))"
   ]
  },
  {
   "cell_type": "code",
   "execution_count": 11,
   "metadata": {
    "execution": {
     "iopub.execute_input": "2020-09-14T18:50:11.837240Z",
     "iopub.status.busy": "2020-09-14T18:50:11.836219Z",
     "iopub.status.idle": "2020-09-14T18:50:11.839823Z",
     "shell.execute_reply": "2020-09-14T18:50:11.839105Z"
    },
    "papermill": {
     "duration": 0.027208,
     "end_time": "2020-09-14T18:50:11.839946",
     "exception": false,
     "start_time": "2020-09-14T18:50:11.812738",
     "status": "completed"
    },
    "tags": []
   },
   "outputs": [],
   "source": [
    "# def f(x):\n",
    "#     y = abs(x)\n",
    "# return y\n",
    "\n",
    "# print(f(5))"
   ]
  },
  {
   "cell_type": "markdown",
   "metadata": {
    "papermill": {
     "duration": 0.019281,
     "end_time": "2020-09-14T18:50:11.878971",
     "exception": false,
     "start_time": "2020-09-14T18:50:11.859690",
     "status": "completed"
    },
    "tags": []
   },
   "source": [
    "# Keep Going\n",
    "\n",
    "Nice job with the code. Next up, you'll learn about *conditionals*, which you'll need to write interesting programs. Keep going **[here](https://www.kaggle.com/colinmorris/booleans-and-conditionals)**"
   ]
  },
  {
   "cell_type": "markdown",
   "metadata": {
    "papermill": {
     "duration": 0.01917,
     "end_time": "2020-09-14T18:50:11.917726",
     "exception": false,
     "start_time": "2020-09-14T18:50:11.898556",
     "status": "completed"
    },
    "tags": []
   },
   "source": [
    "---\n",
    "**[Python Home Page](https://www.kaggle.com/learn/python)**\n",
    "\n",
    "\n",
    "\n",
    "\n",
    "\n",
    "*Have questions or comments? Visit the [Learn Discussion forum](https://www.kaggle.com/learn-forum/161283) to chat with other Learners.*"
   ]
  }
 ],
 "metadata": {
  "kernelspec": {
   "display_name": "Python 3",
   "language": "python",
   "name": "python3"
  },
  "language_info": {
   "codemirror_mode": {
    "name": "ipython",
    "version": 3
   },
   "file_extension": ".py",
   "mimetype": "text/x-python",
   "name": "python",
   "nbconvert_exporter": "python",
   "pygments_lexer": "ipython3",
   "version": "3.7.6"
  },
  "papermill": {
   "duration": 7.063059,
   "end_time": "2020-09-14T18:50:13.015497",
   "environment_variables": {},
   "exception": null,
   "input_path": "__notebook__.ipynb",
   "output_path": "__notebook__.ipynb",
   "parameters": {},
   "start_time": "2020-09-14T18:50:05.952438",
   "version": "2.1.0"
  }
 },
 "nbformat": 4,
 "nbformat_minor": 4
}
