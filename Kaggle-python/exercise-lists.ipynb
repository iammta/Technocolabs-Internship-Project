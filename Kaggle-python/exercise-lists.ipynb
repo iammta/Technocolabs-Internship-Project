{
 "cells": [
  {
   "cell_type": "markdown",
   "metadata": {
    "papermill": {
     "duration": 0.016848,
     "end_time": "2020-09-14T19:49:29.029244",
     "exception": false,
     "start_time": "2020-09-14T19:49:29.012396",
     "status": "completed"
    },
    "tags": []
   },
   "source": [
    "**[Python Home Page](https://www.kaggle.com/learn/python)**\n",
    "\n",
    "---\n"
   ]
  },
  {
   "cell_type": "markdown",
   "metadata": {
    "papermill": {
     "duration": 0.014486,
     "end_time": "2020-09-14T19:49:29.059227",
     "exception": false,
     "start_time": "2020-09-14T19:49:29.044741",
     "status": "completed"
    },
    "tags": []
   },
   "source": [
    "# Try It Yourself\n",
    "\n",
    "Things get more interesting with lists. See if you can solve the questions below. Remember to run the following cell first."
   ]
  },
  {
   "cell_type": "code",
   "execution_count": 1,
   "metadata": {
    "execution": {
     "iopub.execute_input": "2020-09-14T19:49:29.095352Z",
     "iopub.status.busy": "2020-09-14T19:49:29.094508Z",
     "iopub.status.idle": "2020-09-14T19:49:29.145727Z",
     "shell.execute_reply": "2020-09-14T19:49:29.144308Z"
    },
    "papermill": {
     "duration": 0.071872,
     "end_time": "2020-09-14T19:49:29.145952",
     "exception": false,
     "start_time": "2020-09-14T19:49:29.074080",
     "status": "completed"
    },
    "tags": []
   },
   "outputs": [
    {
     "name": "stdout",
     "output_type": "stream",
     "text": [
      "Setup complete.\n"
     ]
    }
   ],
   "source": [
    "from learntools.core import binder; binder.bind(globals())\n",
    "from learntools.python.ex4 import *\n",
    "print('Setup complete.')"
   ]
  },
  {
   "cell_type": "markdown",
   "metadata": {
    "papermill": {
     "duration": 0.01576,
     "end_time": "2020-09-14T19:49:29.179245",
     "exception": false,
     "start_time": "2020-09-14T19:49:29.163485",
     "status": "completed"
    },
    "tags": []
   },
   "source": [
    "# Exercises"
   ]
  },
  {
   "cell_type": "markdown",
   "metadata": {
    "papermill": {
     "duration": 0.015046,
     "end_time": "2020-09-14T19:49:29.209728",
     "exception": false,
     "start_time": "2020-09-14T19:49:29.194682",
     "status": "completed"
    },
    "tags": []
   },
   "source": [
    "## 1.\n",
    "\n",
    "Complete the function below according to its docstring."
   ]
  },
  {
   "cell_type": "code",
   "execution_count": 2,
   "metadata": {
    "execution": {
     "iopub.execute_input": "2020-09-14T19:49:29.249989Z",
     "iopub.status.busy": "2020-09-14T19:49:29.248958Z",
     "iopub.status.idle": "2020-09-14T19:49:29.255589Z",
     "shell.execute_reply": "2020-09-14T19:49:29.254873Z"
    },
    "papermill": {
     "duration": 0.030596,
     "end_time": "2020-09-14T19:49:29.255707",
     "exception": false,
     "start_time": "2020-09-14T19:49:29.225111",
     "status": "completed"
    },
    "tags": []
   },
   "outputs": [
    {
     "data": {
      "application/javascript": [
       "parent.postMessage({\"jupyterEvent\": \"custom.exercise_interaction\", \"data\": {\"outcomeType\": 1, \"valueTowardsCompletion\": 0.2, \"interactionType\": 1, \"questionType\": 2, \"questionId\": \"1_SelectSecondItem\", \"learnToolsVersion\": \"0.3.4\", \"failureMessage\": \"\", \"exceptionClass\": \"\", \"trace\": \"\"}}, \"*\")"
      ],
      "text/plain": [
       "<IPython.core.display.Javascript object>"
      ]
     },
     "metadata": {},
     "output_type": "display_data"
    },
    {
     "data": {
      "text/markdown": [
       "<span style=\"color:#33cc33\">Correct</span>"
      ],
      "text/plain": [
       "Correct"
      ]
     },
     "metadata": {},
     "output_type": "display_data"
    }
   ],
   "source": [
    "def select_second(L):\n",
    "    \"\"\"Return the second element of the given list. If the list has no second\n",
    "    element, return None.\n",
    "    \"\"\"\n",
    "    if len(L) < 2:\n",
    "        return None\n",
    "    return L[1]\n",
    "\n",
    "# Check your answer\n",
    "q1.check()"
   ]
  },
  {
   "cell_type": "code",
   "execution_count": 3,
   "metadata": {
    "execution": {
     "iopub.execute_input": "2020-09-14T19:49:29.296590Z",
     "iopub.status.busy": "2020-09-14T19:49:29.295846Z",
     "iopub.status.idle": "2020-09-14T19:49:29.299144Z",
     "shell.execute_reply": "2020-09-14T19:49:29.298514Z"
    },
    "papermill": {
     "duration": 0.024288,
     "end_time": "2020-09-14T19:49:29.299313",
     "exception": false,
     "start_time": "2020-09-14T19:49:29.275025",
     "status": "completed"
    },
    "tags": []
   },
   "outputs": [],
   "source": [
    "#q1.hint()\n",
    "#q1.solution()"
   ]
  },
  {
   "cell_type": "markdown",
   "metadata": {
    "papermill": {
     "duration": 0.016741,
     "end_time": "2020-09-14T19:49:29.333163",
     "exception": false,
     "start_time": "2020-09-14T19:49:29.316422",
     "status": "completed"
    },
    "tags": []
   },
   "source": [
    "## 2.\n",
    "\n",
    "You are analyzing sports teams.  Members of each team are stored in a list. The Coach is the first name in the list, the captain is the second name in the list, and other players are listed after that. \n",
    "These lists are stored in another list, which starts with the best team and proceeds through the list to the worst team last.  Complete the function below to select the **captain** of the worst team."
   ]
  },
  {
   "cell_type": "code",
   "execution_count": 4,
   "metadata": {
    "execution": {
     "iopub.execute_input": "2020-09-14T19:49:29.374472Z",
     "iopub.status.busy": "2020-09-14T19:49:29.373640Z",
     "iopub.status.idle": "2020-09-14T19:49:29.379466Z",
     "shell.execute_reply": "2020-09-14T19:49:29.378696Z"
    },
    "papermill": {
     "duration": 0.02929,
     "end_time": "2020-09-14T19:49:29.379590",
     "exception": false,
     "start_time": "2020-09-14T19:49:29.350300",
     "status": "completed"
    },
    "tags": []
   },
   "outputs": [
    {
     "data": {
      "application/javascript": [
       "parent.postMessage({\"jupyterEvent\": \"custom.exercise_interaction\", \"data\": {\"outcomeType\": 1, \"valueTowardsCompletion\": 0.2, \"interactionType\": 1, \"questionType\": 2, \"questionId\": \"2_LosingTeamCaptain\", \"learnToolsVersion\": \"0.3.4\", \"failureMessage\": \"\", \"exceptionClass\": \"\", \"trace\": \"\"}}, \"*\")"
      ],
      "text/plain": [
       "<IPython.core.display.Javascript object>"
      ]
     },
     "metadata": {},
     "output_type": "display_data"
    },
    {
     "data": {
      "text/markdown": [
       "<span style=\"color:#33cc33\">Correct</span>"
      ],
      "text/plain": [
       "Correct"
      ]
     },
     "metadata": {},
     "output_type": "display_data"
    }
   ],
   "source": [
    "def losing_team_captain(teams):\n",
    "    \"\"\"Given a list of teams, where each team is a list of names, return the 2nd player (captain)\n",
    "    from the last listed team\n",
    "    \"\"\"\n",
    "    return teams[-1][1]\n",
    "\n",
    "# Check your answer\n",
    "q2.check()"
   ]
  },
  {
   "cell_type": "code",
   "execution_count": 5,
   "metadata": {
    "execution": {
     "iopub.execute_input": "2020-09-14T19:49:29.422526Z",
     "iopub.status.busy": "2020-09-14T19:49:29.421462Z",
     "iopub.status.idle": "2020-09-14T19:49:29.424700Z",
     "shell.execute_reply": "2020-09-14T19:49:29.424097Z"
    },
    "papermill": {
     "duration": 0.026434,
     "end_time": "2020-09-14T19:49:29.424844",
     "exception": false,
     "start_time": "2020-09-14T19:49:29.398410",
     "status": "completed"
    },
    "tags": []
   },
   "outputs": [],
   "source": [
    "#q2.hint()\n",
    "#q2.solution()"
   ]
  },
  {
   "cell_type": "markdown",
   "metadata": {
    "papermill": {
     "duration": 0.018531,
     "end_time": "2020-09-14T19:49:29.462477",
     "exception": false,
     "start_time": "2020-09-14T19:49:29.443946",
     "status": "completed"
    },
    "tags": []
   },
   "source": [
    "## 3.\n",
    "\n",
    "The next iteration of Mario Kart will feature an extra-infuriating new item, the *Purple Shell*. When used, it warps the last place racer into first place and the first place racer into last place. Complete the function below to implement the Purple Shell's effect."
   ]
  },
  {
   "cell_type": "code",
   "execution_count": 6,
   "metadata": {
    "execution": {
     "iopub.execute_input": "2020-09-14T19:49:29.507482Z",
     "iopub.status.busy": "2020-09-14T19:49:29.506627Z",
     "iopub.status.idle": "2020-09-14T19:49:29.513180Z",
     "shell.execute_reply": "2020-09-14T19:49:29.512545Z"
    },
    "papermill": {
     "duration": 0.032105,
     "end_time": "2020-09-14T19:49:29.513328",
     "exception": false,
     "start_time": "2020-09-14T19:49:29.481223",
     "status": "completed"
    },
    "tags": []
   },
   "outputs": [
    {
     "data": {
      "application/javascript": [
       "parent.postMessage({\"jupyterEvent\": \"custom.exercise_interaction\", \"data\": {\"outcomeType\": 1, \"valueTowardsCompletion\": 0.2, \"interactionType\": 1, \"questionType\": 2, \"questionId\": \"3_PurpleShell\", \"learnToolsVersion\": \"0.3.4\", \"failureMessage\": \"\", \"exceptionClass\": \"\", \"trace\": \"\"}}, \"*\")"
      ],
      "text/plain": [
       "<IPython.core.display.Javascript object>"
      ]
     },
     "metadata": {},
     "output_type": "display_data"
    },
    {
     "data": {
      "text/markdown": [
       "<span style=\"color:#33cc33\">Correct</span>"
      ],
      "text/plain": [
       "Correct"
      ]
     },
     "metadata": {},
     "output_type": "display_data"
    }
   ],
   "source": [
    "def purple_shell(racers):\n",
    "    \"\"\"Given a list of racers, set the first place racer (at the front of the list) to last\n",
    "    place and vice versa.\n",
    "    \n",
    "    >>> r = [\"Mario\", \"Bowser\", \"Luigi\"]\n",
    "    >>> purple_shell(r)\n",
    "    >>> r\n",
    "    [\"Luigi\", \"Bowser\", \"Mario\"]\n",
    "    \"\"\"\n",
    "    tem = racers[0]\n",
    "    racers[0] = racers[-1]\n",
    "    racers[-1] = tem\n",
    "\n",
    "# Check your answer\n",
    "q3.check()"
   ]
  },
  {
   "cell_type": "code",
   "execution_count": 7,
   "metadata": {
    "execution": {
     "iopub.execute_input": "2020-09-14T19:49:29.558122Z",
     "iopub.status.busy": "2020-09-14T19:49:29.557419Z",
     "iopub.status.idle": "2020-09-14T19:49:29.561176Z",
     "shell.execute_reply": "2020-09-14T19:49:29.560468Z"
    },
    "papermill": {
     "duration": 0.027847,
     "end_time": "2020-09-14T19:49:29.561346",
     "exception": false,
     "start_time": "2020-09-14T19:49:29.533499",
     "status": "completed"
    },
    "tags": []
   },
   "outputs": [],
   "source": [
    "#q3.hint()\n",
    "#q3.solution()"
   ]
  },
  {
   "cell_type": "markdown",
   "metadata": {
    "papermill": {
     "duration": 0.020178,
     "end_time": "2020-09-14T19:49:29.601818",
     "exception": false,
     "start_time": "2020-09-14T19:49:29.581640",
     "status": "completed"
    },
    "tags": []
   },
   "source": [
    "## 4.\n",
    "\n",
    "What are the lengths of the following lists? Fill in the variable `lengths` with your predictions. (Try to make a prediction for each list *without* just calling `len()` on it.)"
   ]
  },
  {
   "cell_type": "code",
   "execution_count": 8,
   "metadata": {
    "execution": {
     "iopub.execute_input": "2020-09-14T19:49:29.651149Z",
     "iopub.status.busy": "2020-09-14T19:49:29.650100Z",
     "iopub.status.idle": "2020-09-14T19:49:29.656248Z",
     "shell.execute_reply": "2020-09-14T19:49:29.655575Z"
    },
    "papermill": {
     "duration": 0.034284,
     "end_time": "2020-09-14T19:49:29.656383",
     "exception": false,
     "start_time": "2020-09-14T19:49:29.622099",
     "status": "completed"
    },
    "tags": []
   },
   "outputs": [
    {
     "data": {
      "application/javascript": [
       "parent.postMessage({\"jupyterEvent\": \"custom.exercise_interaction\", \"data\": {\"outcomeType\": 1, \"valueTowardsCompletion\": 0.2, \"interactionType\": 1, \"questionType\": 1, \"questionId\": \"4_UnderstandLen\", \"learnToolsVersion\": \"0.3.4\", \"failureMessage\": \"\", \"exceptionClass\": \"\", \"trace\": \"\"}}, \"*\")"
      ],
      "text/plain": [
       "<IPython.core.display.Javascript object>"
      ]
     },
     "metadata": {},
     "output_type": "display_data"
    },
    {
     "data": {
      "text/markdown": [
       "<span style=\"color:#33cc33\">Correct:</span> \n",
       "\n",
       "\n",
       "- a: There are three items in this list. Nothing tricky yet.\n",
       "- b: The list `[2, 3]` counts as a single item. It has one item before it. So we have 2 items in the list\n",
       "- c: The empty list has 0 items\n",
       "- d: The expression is the same as the list `[2, 3]`, which has length 2."
      ],
      "text/plain": [
       "Correct: \n",
       "\n",
       "\n",
       "- a: There are three items in this list. Nothing tricky yet.\n",
       "- b: The list `[2, 3]` counts as a single item. It has one item before it. So we have 2 items in the list\n",
       "- c: The empty list has 0 items\n",
       "- d: The expression is the same as the list `[2, 3]`, which has length 2."
      ]
     },
     "metadata": {},
     "output_type": "display_data"
    }
   ],
   "source": [
    "a = [1, 2, 3]\n",
    "b = [1, [2, 3]]\n",
    "c = []\n",
    "d = [1, 2, 3][1:]\n",
    "\n",
    "# Put your predictions in the list below. Lengths should contain 4 numbers, the\n",
    "# first being the length of a, the second being the length of b and so on.\n",
    "lengths = [3,2,0,2]\n",
    "\n",
    "# Check your answer\n",
    "q4.check()"
   ]
  },
  {
   "cell_type": "code",
   "execution_count": 9,
   "metadata": {
    "execution": {
     "iopub.execute_input": "2020-09-14T19:49:29.705260Z",
     "iopub.status.busy": "2020-09-14T19:49:29.704093Z",
     "iopub.status.idle": "2020-09-14T19:49:29.707538Z",
     "shell.execute_reply": "2020-09-14T19:49:29.706770Z"
    },
    "papermill": {
     "duration": 0.029396,
     "end_time": "2020-09-14T19:49:29.707671",
     "exception": false,
     "start_time": "2020-09-14T19:49:29.678275",
     "status": "completed"
    },
    "tags": []
   },
   "outputs": [],
   "source": [
    "# line below provides some explanation\n",
    "#q4.solution()"
   ]
  },
  {
   "cell_type": "markdown",
   "metadata": {
    "papermill": {
     "duration": 0.021957,
     "end_time": "2020-09-14T19:49:29.751625",
     "exception": false,
     "start_time": "2020-09-14T19:49:29.729668",
     "status": "completed"
    },
    "tags": []
   },
   "source": [
    "## 5. <span title=\"A bit spicy\" style=\"color: darkgreen \">🌶️</span>\n",
    "\n",
    "We're using lists to record people who attended our party and what order they arrived in. For example, the following list represents a party with 7 guests, in which Adela showed up first and Ford was the last to arrive:\n",
    "\n",
    "    party_attendees = ['Adela', 'Fleda', 'Owen', 'May', 'Mona', 'Gilbert', 'Ford']\n",
    "\n",
    "A guest is considered 'fashionably late' if they arrived after at least half of the party's guests. However, they must not be the very last guest (that's taking it too far). In the above example, Mona and Gilbert are the only guests who were fashionably late.\n",
    "\n",
    "Complete the function below which takes a list of party attendees as well as a person, and tells us whether that person is fashionably late."
   ]
  },
  {
   "cell_type": "code",
   "execution_count": 10,
   "metadata": {
    "execution": {
     "iopub.execute_input": "2020-09-14T19:49:29.803731Z",
     "iopub.status.busy": "2020-09-14T19:49:29.802677Z",
     "iopub.status.idle": "2020-09-14T19:49:29.807909Z",
     "shell.execute_reply": "2020-09-14T19:49:29.808494Z"
    },
    "papermill": {
     "duration": 0.034955,
     "end_time": "2020-09-14T19:49:29.808669",
     "exception": false,
     "start_time": "2020-09-14T19:49:29.773714",
     "status": "completed"
    },
    "tags": []
   },
   "outputs": [
    {
     "data": {
      "application/javascript": [
       "parent.postMessage({\"jupyterEvent\": \"custom.exercise_interaction\", \"data\": {\"outcomeType\": 1, \"valueTowardsCompletion\": 0.2, \"interactionType\": 1, \"questionType\": 2, \"questionId\": \"5_FashionablyLate\", \"learnToolsVersion\": \"0.3.4\", \"failureMessage\": \"\", \"exceptionClass\": \"\", \"trace\": \"\"}}, \"*\")"
      ],
      "text/plain": [
       "<IPython.core.display.Javascript object>"
      ]
     },
     "metadata": {},
     "output_type": "display_data"
    },
    {
     "data": {
      "text/markdown": [
       "<span style=\"color:#33cc33\">Correct</span>"
      ],
      "text/plain": [
       "Correct"
      ]
     },
     "metadata": {},
     "output_type": "display_data"
    }
   ],
   "source": [
    "def fashionably_late(arrivals, name):\n",
    "    \"\"\"Given an ordered list of arrivals to the party and a name, return whether the guest with that\n",
    "    name was fashionably late.\n",
    "    \"\"\"\n",
    "    order = arrivals.index(name)\n",
    "    return order >= len(arrivals) / 2 and order != len(arrivals) - 1\n",
    "\n",
    "# Check your answer\n",
    "q5.check()"
   ]
  },
  {
   "cell_type": "code",
   "execution_count": 11,
   "metadata": {
    "execution": {
     "iopub.execute_input": "2020-09-14T19:49:29.861100Z",
     "iopub.status.busy": "2020-09-14T19:49:29.860067Z",
     "iopub.status.idle": "2020-09-14T19:49:29.863315Z",
     "shell.execute_reply": "2020-09-14T19:49:29.862684Z"
    },
    "papermill": {
     "duration": 0.031307,
     "end_time": "2020-09-14T19:49:29.863439",
     "exception": false,
     "start_time": "2020-09-14T19:49:29.832132",
     "status": "completed"
    },
    "tags": []
   },
   "outputs": [],
   "source": [
    "#q5.hint()\n",
    "#q5.solution()"
   ]
  },
  {
   "cell_type": "markdown",
   "metadata": {
    "papermill": {
     "duration": 0.02347,
     "end_time": "2020-09-14T19:49:29.911068",
     "exception": false,
     "start_time": "2020-09-14T19:49:29.887598",
     "status": "completed"
    },
    "tags": []
   },
   "source": [
    "# Keep Going\n",
    "\n",
    "That's it for lists and tuples! Now you have the baseline knowledge to **[learn about loops](https://www.kaggle.com/colinmorris/loops-and-list-comprehensions)**, which is where lists and tuples get really interesting. "
   ]
  },
  {
   "cell_type": "markdown",
   "metadata": {
    "papermill": {
     "duration": 0.023668,
     "end_time": "2020-09-14T19:49:29.958293",
     "exception": false,
     "start_time": "2020-09-14T19:49:29.934625",
     "status": "completed"
    },
    "tags": []
   },
   "source": [
    "---\n",
    "**[Python Home Page](https://www.kaggle.com/learn/python)**\n",
    "\n",
    "\n",
    "\n",
    "\n",
    "\n",
    "*Have questions or comments? Visit the [Learn Discussion forum](https://www.kaggle.com/learn-forum/161283) to chat with other Learners.*"
   ]
  }
 ],
 "metadata": {
  "kernelspec": {
   "display_name": "Python 3",
   "language": "python",
   "name": "python3"
  },
  "language_info": {
   "codemirror_mode": {
    "name": "ipython",
    "version": 3
   },
   "file_extension": ".py",
   "mimetype": "text/x-python",
   "name": "python",
   "nbconvert_exporter": "python",
   "pygments_lexer": "ipython3",
   "version": "3.7.6"
  },
  "papermill": {
   "duration": 6.17647,
   "end_time": "2020-09-14T19:49:30.090590",
   "environment_variables": {},
   "exception": null,
   "input_path": "__notebook__.ipynb",
   "output_path": "__notebook__.ipynb",
   "parameters": {},
   "start_time": "2020-09-14T19:49:23.914120",
   "version": "2.1.0"
  }
 },
 "nbformat": 4,
 "nbformat_minor": 4
}
